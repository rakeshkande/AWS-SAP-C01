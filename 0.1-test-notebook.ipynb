{
  "cells": [
    {
      "cell_type": "markdown",
      "metadata": {
        "id": "view-in-github",
        "colab_type": "text"
      },
      "source": [
        "<a href=\"https://colab.research.google.com/github/rakeshkande/AWS-SAP-C01/blob/master/0.1-test-notebook.ipynb\" target=\"_parent\"><img src=\"https://colab.research.google.com/assets/colab-badge.svg\" alt=\"Open In Colab\"/></a>"
      ]
    },
    {
      "cell_type": "markdown",
      "metadata": {
        "id": "sSHhRrvHt70E"
      },
      "source": [
        "#### Welcome to Jupyter\n",
        "\n",
        "This is a Jupyer Notebook. It contains both computer code (e.g. python) and rich text elements (paragraph, equations, figures, links, etc…). This paragraph is an example of the rich text element. You can double click on this paragraph 'cell' to edit it.\n",
        "\n",
        "Below is a code block. You can double click to edit it. You can also run the code step-by-step (one cell a time) by pressing shift + enter when you have the cell selected."
      ]
    },
    {
      "cell_type": "code",
      "execution_count": null,
      "metadata": {
        "id": "3hDBnnkut70E"
      },
      "outputs": [],
      "source": [
        "14 + 7"
      ]
    },
    {
      "cell_type": "markdown",
      "metadata": {
        "id": "rbWsP7sut70E"
      },
      "source": [
        "#### Setup Google Colab environment\n",
        "\n",
        "This notebook should be run on [Google Colab](https://colab.research.google.com/) only. For local usage use the notebook provided [here](https://github.com/bitcoinops/taproot-workshop).\n",
        "\n",
        "Run the following cell to setup the Google Colab enviroment for this notebook."
      ]
    },
    {
      "cell_type": "code",
      "execution_count": 1,
      "metadata": {
        "id": "Kvgud1s7t70F",
        "outputId": "75e667bf-2eab-4933-a9ac-b2d20ecb1401",
        "colab": {
          "base_uri": "https://localhost:8080/"
        }
      },
      "outputs": [
        {
          "output_type": "stream",
          "name": "stdout",
          "text": [
            "Colab environment setup.\n"
          ]
        }
      ],
      "source": [
        "!curl -o- -s -S -L https://raw.githubusercontent.com/bitcoinops/taproot-workshop/Colab/setup-colab-env.sh | bash"
      ]
    },
    {
      "cell_type": "markdown",
      "metadata": {
        "id": "XijI6QbOt70F"
      },
      "source": [
        "#### Verify that the bitcoind source directory is correctly configured and import the TestWrapper\n",
        "\n",
        "The source directory for your local Bitcoin Core repository should already be configured. If it isn't, update the `SOURCE_DIRECTORY` line to reference the Bitcoin Core source directory.\n",
        "\n",
        "This will be used to access the taproot-compatible bitcoind binary.\n",
        "\n",
        "The import below will fail if `SOURCE_DIRECTORY` is not configured or misconfigured:\n",
        "\n",
        "- `SOURCE_DIRECTORY not configured! Edit config.ini to configure SOURCE_DIRECTORY` means that no directory has been configured.\n",
        "- `ModuleNotFoundError: No module named 'test_framework'` means that the specified directory is not a Bitcoin Core branch."
      ]
    },
    {
      "cell_type": "code",
      "execution_count": null,
      "metadata": {
        "id": "-wqm8Jdvt70F"
      },
      "outputs": [],
      "source": [
        "from util import TestWrapper"
      ]
    },
    {
      "cell_type": "markdown",
      "metadata": {
        "id": "Q_r5UPvWt70F"
      },
      "source": [
        "#### Create TestWrapper object\n",
        "\n",
        "We provide a test wrapper class which allows the user to leverage the test framework utilites in external Python projects, such as this notebook. The test wrapper provides RPC access to bitcoind instances directly from the Jupyter notebook cell or any other external python project.\n",
        "\n",
        "When `setup` is called, the test wrapper will automatically start a network of 3 bitcoind daemon subprocesses, which can be accessed through the RPC interface. We will use this frequently in this workshop to broadcast schnorr & taproot transactions."
      ]
    },
    {
      "cell_type": "markdown",
      "metadata": {
        "id": "9EvxwWBHt70F"
      },
      "source": [
        "![test_wrapper_object_lifetime](https://github.com/bitcoinops/taproot-workshop/blob/Colab/images/intro0.jpg?raw=1)"
      ]
    },
    {
      "cell_type": "markdown",
      "metadata": {
        "id": "WFjY1NLOt70F"
      },
      "source": [
        "If the command below fails, then you may have entered the source directory above incorrectly."
      ]
    },
    {
      "cell_type": "code",
      "execution_count": null,
      "metadata": {
        "id": "HwI0fsset70F"
      },
      "outputs": [],
      "source": [
        "test = TestWrapper()\n",
        "# Start TestNodes\n",
        "\n",
        "test.setup()"
      ]
    },
    {
      "cell_type": "markdown",
      "metadata": {
        "id": "6Fk_PiJlt70F"
      },
      "source": [
        "#### Check node version\n",
        "\n",
        "This command checks the version of the Bitcoin Core node. Note that `getnetworkinfo` and `getblockchaininfo` are simply Bitcoin Core RPC commands.\n",
        "\n",
        "If it fails, then the bitcoind binary is not the right version and does not have taproot enabled."
      ]
    },
    {
      "cell_type": "code",
      "execution_count": null,
      "metadata": {
        "id": "GoQQXDZWt70G"
      },
      "outputs": [],
      "source": [
        "version = test.nodes[0].getnetworkinfo()['subversion']\n",
        "print(\"Client version is {}\".format(version))\n",
        "assert \"Satoshi\" in version\n",
        "\n",
        "blockchain_info = test.nodes[0].getblockchaininfo()\n",
        "assert 'taproot' in blockchain_info['softforks']\n",
        "assert blockchain_info['softforks']['taproot']['active']"
      ]
    },
    {
      "cell_type": "markdown",
      "metadata": {
        "id": "tDXKIRxqt70G"
      },
      "source": [
        "#### Shutdown TestNodes\n",
        "\n",
        "This shuts down the bitcoind instances cleanly and does other housekeeping (eg deleting log directories).\n",
        "\n",
        "This needs to be done at the end of every notebook."
      ]
    },
    {
      "cell_type": "code",
      "execution_count": null,
      "metadata": {
        "id": "bSPiYWFyt70G"
      },
      "outputs": [],
      "source": [
        "# Shutdown TestNodes\n",
        "test.shutdown()"
      ]
    },
    {
      "cell_type": "markdown",
      "metadata": {
        "id": "UfpXnjO4t70G"
      },
      "source": [
        "*Things to keep in mind:*\n",
        "* Separate test wrapper `setup`, `shutdown` and your code into different cells. This ensures that an error in your code does not affect the test wrapper object and prevents orphaned subprocesses.\n",
        "* Only run one test wrapper object at a time.\n",
        "* If the subprocesses do become orphaned somehow, you can run `killall bitcoind` to shut them down manually."
      ]
    },
    {
      "cell_type": "markdown",
      "metadata": {
        "id": "jJqXgjpGt70G"
      },
      "source": [
        "#### You're ready for the workshop!\n",
        "\n",
        "If you were able to successfully execute the steps above, you are ready for the workshop!"
      ]
    }
  ],
  "metadata": {
    "kernelspec": {
      "display_name": "Python 3",
      "language": "python",
      "name": "python3"
    },
    "language_info": {
      "codemirror_mode": {
        "name": "ipython",
        "version": 3
      },
      "file_extension": ".py",
      "mimetype": "text/x-python",
      "name": "python",
      "nbconvert_exporter": "python",
      "pygments_lexer": "ipython3",
      "version": "3.6.5"
    },
    "colab": {
      "provenance": [],
      "include_colab_link": true
    }
  },
  "nbformat": 4,
  "nbformat_minor": 0
}